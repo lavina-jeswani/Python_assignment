{
 "cells": [
  {
   "cell_type": "code",
   "execution_count": 1,
   "metadata": {},
   "outputs": [
    {
     "name": "stdout",
     "output_type": "stream",
     "text": [
      "29\n"
     ]
    }
   ],
   "source": [
    "def myreduce(list):\n",
    "    sum=list[0]\n",
    "    for i in range(1,len(list)):\n",
    "        sum+=list[i]\n",
    "    return sum\n",
    "\n",
    "print(myreduce([4,1,6,7,3,8]))"
   ]
  },
  {
   "cell_type": "code",
   "execution_count": 2,
   "metadata": {},
   "outputs": [
    {
     "name": "stdout",
     "output_type": "stream",
     "text": [
      "[2, 4, 8]\n"
     ]
    }
   ],
   "source": [
    "def myfilter(list):\n",
    "    l=[]\n",
    "    for i in range(len(list)):\n",
    "        if(list[i]%2==0):\n",
    "            l.append(list[i])\n",
    "    return l\n",
    "\n",
    "print(myfilter([2,7,4,9,8]))"
   ]
  },
  {
   "cell_type": "code",
   "execution_count": 3,
   "metadata": {},
   "outputs": [
    {
     "name": "stdout",
     "output_type": "stream",
     "text": [
      "['A', 'C', 'A', 'D', 'G', 'I', 'L', 'D']\n"
     ]
    }
   ],
   "source": [
    "center='ACADGILD'\n",
    "list=[i for i in center]\n",
    "print(list)"
   ]
  },
  {
   "cell_type": "code",
   "execution_count": 4,
   "metadata": {},
   "outputs": [
    {
     "name": "stdout",
     "output_type": "stream",
     "text": [
      "['x', 'xx', 'xxx', 'xxxx', 'y', 'yy', 'yyy', 'yyyy', 'z', 'zz', 'zzz', 'zzzz']\n"
     ]
    }
   ],
   "source": [
    "list=['x','y','z']\n",
    "new_list=[char*i for char in list for i in range(1,5)]\n",
    "print(new_list)"
   ]
  },
  {
   "cell_type": "code",
   "execution_count": 5,
   "metadata": {},
   "outputs": [
    {
     "name": "stdout",
     "output_type": "stream",
     "text": [
      "['x', 'y', 'z', 'xx', 'yy', 'zz', 'xxx', 'yyy', 'zzz', 'xxxx', 'yyyy', 'zzzz']\n"
     ]
    }
   ],
   "source": [
    "list=['x','y','z']\n",
    "new_list=[char*i for i in range(1,5) for char in list]\n",
    "print(new_list)"
   ]
  },
  {
   "cell_type": "code",
   "execution_count": 6,
   "metadata": {},
   "outputs": [
    {
     "name": "stdout",
     "output_type": "stream",
     "text": [
      "[[2], [3], [4], [3], [4], [5], [4], [5], [6]]\n"
     ]
    }
   ],
   "source": [
    "list=[2,3,4]\n",
    "new_list=[[num+i] for i in range(3) for num in list]\n",
    "print(new_list)"
   ]
  },
  {
   "cell_type": "code",
   "execution_count": 7,
   "metadata": {},
   "outputs": [
    {
     "name": "stdout",
     "output_type": "stream",
     "text": [
      "[[2, 3, 4, 5], [3, 4, 5, 6], [4, 5, 6, 7], [5, 6, 7, 8]]\n"
     ]
    }
   ],
   "source": [
    "list=[2,3,4,5]\n",
    "new_list=[[num+i for num in list] for i in range(4)]\n",
    "print(new_list)"
   ]
  },
  {
   "cell_type": "code",
   "execution_count": 8,
   "metadata": {},
   "outputs": [
    {
     "name": "stdout",
     "output_type": "stream",
     "text": [
      "[(1, 1), (2, 1), (3, 1), (1, 2), (2, 2), (3, 2), (1, 3), (2, 3), (3, 3)]\n"
     ]
    }
   ],
   "source": [
    "group=(1,1)\n",
    "list=[((1+i),(1+x)) for x in range(0,3) for i in range(0,3)]\n",
    "print(list)"
   ]
  },
  {
   "cell_type": "code",
   "execution_count": 9,
   "metadata": {},
   "outputs": [
    {
     "data": {
      "text/plain": [
       "'lavina'"
      ]
     },
     "execution_count": 9,
     "metadata": {},
     "output_type": "execute_result"
    }
   ],
   "source": [
    "def long_word(list):\n",
    "    long=len(list[0])\n",
    "    word=list[0]\n",
    "    for i in range(1,len(list)):\n",
    "        b=len(list[i])\n",
    "        if(b>long):\n",
    "            long=b\n",
    "            word=list[i]\n",
    "    return(word)\n",
    "\n",
    "long_word([\"is\",\"the\",\"lavina\", \"from\"])"
   ]
  },
  {
   "cell_type": "code",
   "execution_count": 10,
   "metadata": {},
   "outputs": [
    {
     "name": "stdout",
     "output_type": "stream",
     "text": [
      "Enter A:\n",
      "2\n",
      "Enter B:\n",
      "3\n",
      "Enter C:\n",
      "4\n"
     ]
    },
    {
     "data": {
      "text/plain": [
       "2.9047375096555625"
      ]
     },
     "execution_count": 10,
     "metadata": {},
     "output_type": "execute_result"
    }
   ],
   "source": [
    "class Triangle:\n",
    "    def __init__(self):\n",
    "        self.a = None\n",
    "        self.b = None\n",
    "        self.c = None        \n",
    "        \n",
    "    def input(self):\n",
    "        print(\"Enter A:\")\n",
    "        self.a = int(input())\n",
    "        \n",
    "        print(\"Enter B:\")\n",
    "        self.b =int(input())\n",
    "        \n",
    "        print(\"Enter C:\")\n",
    "        self.c = int(input())\n",
    "        \n",
    "class Area(Triangle):\n",
    "    def calculate(self):\n",
    "        self.input()\n",
    "        self.s=(self.a + self.b + self.c)/2\n",
    "        return((self.s*(self.s-self.a)*(self.s-self.b)*(self.s-self.c))**0.5)\n",
    "\n",
    "a=Area()\n",
    "a.calculate()"
   ]
  },
  {
   "cell_type": "code",
   "execution_count": 12,
   "metadata": {},
   "outputs": [
    {
     "name": "stdout",
     "output_type": "stream",
     "text": [
      "['lavina', 'jeswani']\n"
     ]
    }
   ],
   "source": [
    "def filter_long(list,n):\n",
    "    long=[]\n",
    "    for i in list:\n",
    "        if(len(i)>n):\n",
    "            long.append(i)\n",
    "    return long\n",
    "\n",
    "long=filter_long([\"the\",\"name\",\"lavina\",\"jeswani\"],5)\n",
    "print(long)"
   ]
  },
  {
   "cell_type": "code",
   "execution_count": 13,
   "metadata": {},
   "outputs": [
    {
     "name": "stdout",
     "output_type": "stream",
     "text": [
      "[3, 4, 6, 7, 1]\n"
     ]
    }
   ],
   "source": [
    "def conversion(list):\n",
    "    length=[]\n",
    "    for i in list:\n",
    "        length.append(len(i))\n",
    "    return length\n",
    "\n",
    "lengths=conversion([\"the\",\"name\",\"lavina\",\"jeswani\",\"a\"])\n",
    "print(lengths)"
   ]
  },
  {
   "cell_type": "code",
   "execution_count": 18,
   "metadata": {},
   "outputs": [
    {
     "data": {
      "text/plain": [
       "True"
      ]
     },
     "execution_count": 18,
     "metadata": {},
     "output_type": "execute_result"
    }
   ],
   "source": [
    "def check(char):\n",
    "    list=['a','e','i','o','u']\n",
    "    for i in list:\n",
    "        if(char!=i):\n",
    "            continue\n",
    "        else:\n",
    "            return True\n",
    "    return False\n",
    "\n",
    "check('a')"
   ]
  }
 ],
 "metadata": {
  "kernelspec": {
   "display_name": "Python 3",
   "language": "python",
   "name": "python3"
  },
  "language_info": {
   "codemirror_mode": {
    "name": "ipython",
    "version": 3
   },
   "file_extension": ".py",
   "mimetype": "text/x-python",
   "name": "python",
   "nbconvert_exporter": "python",
   "pygments_lexer": "ipython3",
   "version": "3.7.1"
  }
 },
 "nbformat": 4,
 "nbformat_minor": 2
}
